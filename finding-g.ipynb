{
 "cells": [
  {
   "cell_type": "code",
   "execution_count": 98,
   "id": "norman-tracy",
   "metadata": {},
   "outputs": [],
   "source": [
    "import pandas as pd\n",
    "import numpy as np\n",
    "import matplotlib.pyplot as plt"
   ]
  },
  {
   "cell_type": "code",
   "execution_count": 80,
   "id": "extensive-brook",
   "metadata": {},
   "outputs": [],
   "source": [
    "data = pd.read_csv(\"planetary-data.csv\")"
   ]
  },
  {
   "cell_type": "code",
   "execution_count": 81,
   "id": "neither-promise",
   "metadata": {},
   "outputs": [
    {
     "data": {
      "text/html": [
       "<div>\n",
       "<style scoped>\n",
       "    .dataframe tbody tr th:only-of-type {\n",
       "        vertical-align: middle;\n",
       "    }\n",
       "\n",
       "    .dataframe tbody tr th {\n",
       "        vertical-align: top;\n",
       "    }\n",
       "\n",
       "    .dataframe thead th {\n",
       "        text-align: right;\n",
       "    }\n",
       "</style>\n",
       "<table border=\"1\" class=\"dataframe\">\n",
       "  <thead>\n",
       "    <tr style=\"text-align: right;\">\n",
       "      <th></th>\n",
       "      <th>Planet</th>\n",
       "      <th>Radius, r (m)</th>\n",
       "      <th>Unnamed: 2</th>\n",
       "      <th>Unnamed: 3</th>\n",
       "      <th>Surface field strength, g (N kg^-1)</th>\n",
       "      <th>Unnamed: 5</th>\n",
       "      <th>Unnamed: 6</th>\n",
       "      <th>Mass, M (kg)</th>\n",
       "    </tr>\n",
       "  </thead>\n",
       "  <tbody>\n",
       "    <tr>\n",
       "      <th>0</th>\n",
       "      <td>Mercury</td>\n",
       "      <td>2400000.0</td>\n",
       "      <td>2430000.0</td>\n",
       "      <td>2440000.0</td>\n",
       "      <td>3.76</td>\n",
       "      <td>3.74</td>\n",
       "      <td>3.78</td>\n",
       "      <td>3.300000e+23</td>\n",
       "    </tr>\n",
       "    <tr>\n",
       "      <th>1</th>\n",
       "      <td>Venus</td>\n",
       "      <td>6040000.0</td>\n",
       "      <td>6110000.0</td>\n",
       "      <td>6110000.0</td>\n",
       "      <td>8.73</td>\n",
       "      <td>8.80</td>\n",
       "      <td>8.79</td>\n",
       "      <td>4.870000e+24</td>\n",
       "    </tr>\n",
       "    <tr>\n",
       "      <th>2</th>\n",
       "      <td>Earth</td>\n",
       "      <td>6360000.0</td>\n",
       "      <td>6400000.0</td>\n",
       "      <td>6390000.0</td>\n",
       "      <td>9.85</td>\n",
       "      <td>9.78</td>\n",
       "      <td>9.81</td>\n",
       "      <td>5.980000e+24</td>\n",
       "    </tr>\n",
       "    <tr>\n",
       "      <th>3</th>\n",
       "      <td>Mars</td>\n",
       "      <td>3410000.0</td>\n",
       "      <td>3350000.0</td>\n",
       "      <td>3380000.0</td>\n",
       "      <td>3.81</td>\n",
       "      <td>3.79</td>\n",
       "      <td>3.79</td>\n",
       "      <td>6.420000e+23</td>\n",
       "    </tr>\n",
       "    <tr>\n",
       "      <th>4</th>\n",
       "      <td>Jupiter</td>\n",
       "      <td>71300000.0</td>\n",
       "      <td>71400000.0</td>\n",
       "      <td>71400000.0</td>\n",
       "      <td>24.95</td>\n",
       "      <td>24.92</td>\n",
       "      <td>24.83</td>\n",
       "      <td>1.900000e+27</td>\n",
       "    </tr>\n",
       "    <tr>\n",
       "      <th>5</th>\n",
       "      <td>Saturn</td>\n",
       "      <td>61000000.0</td>\n",
       "      <td>60000000.0</td>\n",
       "      <td>60200000.0</td>\n",
       "      <td>10.40</td>\n",
       "      <td>10.38</td>\n",
       "      <td>10.41</td>\n",
       "      <td>5.670000e+26</td>\n",
       "    </tr>\n",
       "  </tbody>\n",
       "</table>\n",
       "</div>"
      ],
      "text/plain": [
       "    Planet  Radius, r (m)  Unnamed: 2  Unnamed: 3  \\\n",
       "0  Mercury      2400000.0   2430000.0   2440000.0   \n",
       "1    Venus      6040000.0   6110000.0   6110000.0   \n",
       "2    Earth      6360000.0   6400000.0   6390000.0   \n",
       "3     Mars      3410000.0   3350000.0   3380000.0   \n",
       "4  Jupiter     71300000.0  71400000.0  71400000.0   \n",
       "5   Saturn     61000000.0  60000000.0  60200000.0   \n",
       "\n",
       "   Surface field strength, g (N kg^-1)  Unnamed: 5  Unnamed: 6  Mass, M (kg)  \n",
       "0                                 3.76        3.74        3.78  3.300000e+23  \n",
       "1                                 8.73        8.80        8.79  4.870000e+24  \n",
       "2                                 9.85        9.78        9.81  5.980000e+24  \n",
       "3                                 3.81        3.79        3.79  6.420000e+23  \n",
       "4                                24.95       24.92       24.83  1.900000e+27  \n",
       "5                                10.40       10.38       10.41  5.670000e+26  "
      ]
     },
     "execution_count": 81,
     "metadata": {},
     "output_type": "execute_result"
    }
   ],
   "source": [
    "data"
   ]
  },
  {
   "cell_type": "code",
   "execution_count": 82,
   "id": "outstanding-federal",
   "metadata": {},
   "outputs": [],
   "source": [
    "data.rename(columns={\"Unnamed: 2\": \"Radius 2, r (m)\",\n",
    "                     \"Unnamed: 3\": \"Radius 3, r (m)\",\n",
    "                     \"Unnamed: 5\": \"Surface field strength 2, g (N kg^-1)\",\n",
    "                     \"Unnamed: 6\": \"Surface field strength 3, g (N kg^-1)\"},\n",
    "            inplace=True)"
   ]
  },
  {
   "cell_type": "code",
   "execution_count": 83,
   "id": "prospective-relevance",
   "metadata": {},
   "outputs": [
    {
     "data": {
      "text/html": [
       "<div>\n",
       "<style scoped>\n",
       "    .dataframe tbody tr th:only-of-type {\n",
       "        vertical-align: middle;\n",
       "    }\n",
       "\n",
       "    .dataframe tbody tr th {\n",
       "        vertical-align: top;\n",
       "    }\n",
       "\n",
       "    .dataframe thead th {\n",
       "        text-align: right;\n",
       "    }\n",
       "</style>\n",
       "<table border=\"1\" class=\"dataframe\">\n",
       "  <thead>\n",
       "    <tr style=\"text-align: right;\">\n",
       "      <th></th>\n",
       "      <th>Planet</th>\n",
       "      <th>Radius, r (m)</th>\n",
       "      <th>Radius 2, r (m)</th>\n",
       "      <th>Radius 3, r (m)</th>\n",
       "      <th>Surface field strength, g (N kg^-1)</th>\n",
       "      <th>Surface field strength 2, g (N kg^-1)</th>\n",
       "      <th>Surface field strength 3, g (N kg^-1)</th>\n",
       "      <th>Mass, M (kg)</th>\n",
       "    </tr>\n",
       "  </thead>\n",
       "  <tbody>\n",
       "    <tr>\n",
       "      <th>0</th>\n",
       "      <td>Mercury</td>\n",
       "      <td>2400000.0</td>\n",
       "      <td>2430000.0</td>\n",
       "      <td>2440000.0</td>\n",
       "      <td>3.76</td>\n",
       "      <td>3.74</td>\n",
       "      <td>3.78</td>\n",
       "      <td>3.300000e+23</td>\n",
       "    </tr>\n",
       "    <tr>\n",
       "      <th>1</th>\n",
       "      <td>Venus</td>\n",
       "      <td>6040000.0</td>\n",
       "      <td>6110000.0</td>\n",
       "      <td>6110000.0</td>\n",
       "      <td>8.73</td>\n",
       "      <td>8.80</td>\n",
       "      <td>8.79</td>\n",
       "      <td>4.870000e+24</td>\n",
       "    </tr>\n",
       "    <tr>\n",
       "      <th>2</th>\n",
       "      <td>Earth</td>\n",
       "      <td>6360000.0</td>\n",
       "      <td>6400000.0</td>\n",
       "      <td>6390000.0</td>\n",
       "      <td>9.85</td>\n",
       "      <td>9.78</td>\n",
       "      <td>9.81</td>\n",
       "      <td>5.980000e+24</td>\n",
       "    </tr>\n",
       "    <tr>\n",
       "      <th>3</th>\n",
       "      <td>Mars</td>\n",
       "      <td>3410000.0</td>\n",
       "      <td>3350000.0</td>\n",
       "      <td>3380000.0</td>\n",
       "      <td>3.81</td>\n",
       "      <td>3.79</td>\n",
       "      <td>3.79</td>\n",
       "      <td>6.420000e+23</td>\n",
       "    </tr>\n",
       "    <tr>\n",
       "      <th>4</th>\n",
       "      <td>Jupiter</td>\n",
       "      <td>71300000.0</td>\n",
       "      <td>71400000.0</td>\n",
       "      <td>71400000.0</td>\n",
       "      <td>24.95</td>\n",
       "      <td>24.92</td>\n",
       "      <td>24.83</td>\n",
       "      <td>1.900000e+27</td>\n",
       "    </tr>\n",
       "    <tr>\n",
       "      <th>5</th>\n",
       "      <td>Saturn</td>\n",
       "      <td>61000000.0</td>\n",
       "      <td>60000000.0</td>\n",
       "      <td>60200000.0</td>\n",
       "      <td>10.40</td>\n",
       "      <td>10.38</td>\n",
       "      <td>10.41</td>\n",
       "      <td>5.670000e+26</td>\n",
       "    </tr>\n",
       "  </tbody>\n",
       "</table>\n",
       "</div>"
      ],
      "text/plain": [
       "    Planet  Radius, r (m)  Radius 2, r (m)  Radius 3, r (m)  \\\n",
       "0  Mercury      2400000.0        2430000.0        2440000.0   \n",
       "1    Venus      6040000.0        6110000.0        6110000.0   \n",
       "2    Earth      6360000.0        6400000.0        6390000.0   \n",
       "3     Mars      3410000.0        3350000.0        3380000.0   \n",
       "4  Jupiter     71300000.0       71400000.0       71400000.0   \n",
       "5   Saturn     61000000.0       60000000.0       60200000.0   \n",
       "\n",
       "   Surface field strength, g (N kg^-1)  Surface field strength 2, g (N kg^-1)  \\\n",
       "0                                 3.76                                   3.74   \n",
       "1                                 8.73                                   8.80   \n",
       "2                                 9.85                                   9.78   \n",
       "3                                 3.81                                   3.79   \n",
       "4                                24.95                                  24.92   \n",
       "5                                10.40                                  10.38   \n",
       "\n",
       "   Surface field strength 3, g (N kg^-1)  Mass, M (kg)  \n",
       "0                                   3.78  3.300000e+23  \n",
       "1                                   8.79  4.870000e+24  \n",
       "2                                   9.81  5.980000e+24  \n",
       "3                                   3.79  6.420000e+23  \n",
       "4                                  24.83  1.900000e+27  \n",
       "5                                  10.41  5.670000e+26  "
      ]
     },
     "execution_count": 83,
     "metadata": {},
     "output_type": "execute_result"
    }
   ],
   "source": [
    "data"
   ]
  },
  {
   "cell_type": "code",
   "execution_count": 84,
   "id": "northern-diana",
   "metadata": {},
   "outputs": [],
   "source": [
    "mean_data = data"
   ]
  },
  {
   "cell_type": "code",
   "execution_count": 85,
   "id": "athletic-bryan",
   "metadata": {},
   "outputs": [],
   "source": [
    "mean_data[\"Mean radius, r (m)\"] = (data[\"Radius, r (m)\"] + data[\"Radius 2, r (m)\"] + data[\"Radius 3, r (m)\"]) / 3"
   ]
  },
  {
   "cell_type": "code",
   "execution_count": 86,
   "id": "legal-usage",
   "metadata": {},
   "outputs": [],
   "source": [
    "mean_data[\"Mean surface field strength, g (N kg^-1)\"] = (data[\"Surface field strength, g (N kg^-1)\"] + data[\"Surface field strength 2, g (N kg^-1)\"] + data[\"Surface field strength 3, g (N kg^-1)\"]) / 3"
   ]
  },
  {
   "cell_type": "code",
   "execution_count": 87,
   "id": "together-immune",
   "metadata": {},
   "outputs": [],
   "source": [
    "mean_data.drop(labels=[\"Radius, r (m)\", \"Radius 2, r (m)\", \"Radius 3, r (m)\"], axis=1, inplace=True)\n",
    "mean_data.drop(labels=[\"Surface field strength, g (N kg^-1)\", \"Surface field strength 2, g (N kg^-1)\", \"Surface field strength 3, g (N kg^-1)\"], axis=1, inplace=True)"
   ]
  },
  {
   "cell_type": "code",
   "execution_count": 88,
   "id": "alien-idaho",
   "metadata": {},
   "outputs": [
    {
     "data": {
      "text/html": [
       "<div>\n",
       "<style scoped>\n",
       "    .dataframe tbody tr th:only-of-type {\n",
       "        vertical-align: middle;\n",
       "    }\n",
       "\n",
       "    .dataframe tbody tr th {\n",
       "        vertical-align: top;\n",
       "    }\n",
       "\n",
       "    .dataframe thead th {\n",
       "        text-align: right;\n",
       "    }\n",
       "</style>\n",
       "<table border=\"1\" class=\"dataframe\">\n",
       "  <thead>\n",
       "    <tr style=\"text-align: right;\">\n",
       "      <th></th>\n",
       "      <th>Planet</th>\n",
       "      <th>Mass, M (kg)</th>\n",
       "      <th>Mean radius, r (m)</th>\n",
       "      <th>Mean surface field strength, g (N kg^-1)</th>\n",
       "    </tr>\n",
       "  </thead>\n",
       "  <tbody>\n",
       "    <tr>\n",
       "      <th>0</th>\n",
       "      <td>Mercury</td>\n",
       "      <td>3.300000e+23</td>\n",
       "      <td>2.423333e+06</td>\n",
       "      <td>3.760000</td>\n",
       "    </tr>\n",
       "    <tr>\n",
       "      <th>1</th>\n",
       "      <td>Venus</td>\n",
       "      <td>4.870000e+24</td>\n",
       "      <td>6.086667e+06</td>\n",
       "      <td>8.773333</td>\n",
       "    </tr>\n",
       "    <tr>\n",
       "      <th>2</th>\n",
       "      <td>Earth</td>\n",
       "      <td>5.980000e+24</td>\n",
       "      <td>6.383333e+06</td>\n",
       "      <td>9.813333</td>\n",
       "    </tr>\n",
       "    <tr>\n",
       "      <th>3</th>\n",
       "      <td>Mars</td>\n",
       "      <td>6.420000e+23</td>\n",
       "      <td>3.380000e+06</td>\n",
       "      <td>3.796667</td>\n",
       "    </tr>\n",
       "    <tr>\n",
       "      <th>4</th>\n",
       "      <td>Jupiter</td>\n",
       "      <td>1.900000e+27</td>\n",
       "      <td>7.136667e+07</td>\n",
       "      <td>24.900000</td>\n",
       "    </tr>\n",
       "    <tr>\n",
       "      <th>5</th>\n",
       "      <td>Saturn</td>\n",
       "      <td>5.670000e+26</td>\n",
       "      <td>6.040000e+07</td>\n",
       "      <td>10.396667</td>\n",
       "    </tr>\n",
       "  </tbody>\n",
       "</table>\n",
       "</div>"
      ],
      "text/plain": [
       "    Planet  Mass, M (kg)  Mean radius, r (m)  \\\n",
       "0  Mercury  3.300000e+23        2.423333e+06   \n",
       "1    Venus  4.870000e+24        6.086667e+06   \n",
       "2    Earth  5.980000e+24        6.383333e+06   \n",
       "3     Mars  6.420000e+23        3.380000e+06   \n",
       "4  Jupiter  1.900000e+27        7.136667e+07   \n",
       "5   Saturn  5.670000e+26        6.040000e+07   \n",
       "\n",
       "   Mean surface field strength, g (N kg^-1)  \n",
       "0                                  3.760000  \n",
       "1                                  8.773333  \n",
       "2                                  9.813333  \n",
       "3                                  3.796667  \n",
       "4                                 24.900000  \n",
       "5                                 10.396667  "
      ]
     },
     "execution_count": 88,
     "metadata": {},
     "output_type": "execute_result"
    }
   ],
   "source": [
    "mean_data"
   ]
  },
  {
   "cell_type": "code",
   "execution_count": 89,
   "id": "lovely-finland",
   "metadata": {},
   "outputs": [],
   "source": [
    "def calc_G_const(m, g, r):\n",
    "    G_const = (g * r ** 2) / m\n",
    "    return G_const"
   ]
  },
  {
   "cell_type": "code",
   "execution_count": 90,
   "id": "shared-evaluation",
   "metadata": {},
   "outputs": [],
   "source": [
    "mean_data[\"G (N m^2 kg^-2)\"] = calc_G_const(mean_data[\"Mass, M (kg)\"], mean_data[\"Mean surface field strength, g (N kg^-1)\"], mean_data[\"Mean radius, r (m)\"])"
   ]
  },
  {
   "cell_type": "code",
   "execution_count": 91,
   "id": "divided-chocolate",
   "metadata": {},
   "outputs": [
    {
     "data": {
      "text/html": [
       "<div>\n",
       "<style scoped>\n",
       "    .dataframe tbody tr th:only-of-type {\n",
       "        vertical-align: middle;\n",
       "    }\n",
       "\n",
       "    .dataframe tbody tr th {\n",
       "        vertical-align: top;\n",
       "    }\n",
       "\n",
       "    .dataframe thead th {\n",
       "        text-align: right;\n",
       "    }\n",
       "</style>\n",
       "<table border=\"1\" class=\"dataframe\">\n",
       "  <thead>\n",
       "    <tr style=\"text-align: right;\">\n",
       "      <th></th>\n",
       "      <th>Planet</th>\n",
       "      <th>Mass, M (kg)</th>\n",
       "      <th>Mean radius, r (m)</th>\n",
       "      <th>Mean surface field strength, g (N kg^-1)</th>\n",
       "      <th>G (N m^2 kg^-2)</th>\n",
       "    </tr>\n",
       "  </thead>\n",
       "  <tbody>\n",
       "    <tr>\n",
       "      <th>0</th>\n",
       "      <td>Mercury</td>\n",
       "      <td>3.300000e+23</td>\n",
       "      <td>2.423333e+06</td>\n",
       "      <td>3.760000</td>\n",
       "      <td>6.691142e-11</td>\n",
       "    </tr>\n",
       "    <tr>\n",
       "      <th>1</th>\n",
       "      <td>Venus</td>\n",
       "      <td>4.870000e+24</td>\n",
       "      <td>6.086667e+06</td>\n",
       "      <td>8.773333</td>\n",
       "      <td>6.674131e-11</td>\n",
       "    </tr>\n",
       "    <tr>\n",
       "      <th>2</th>\n",
       "      <td>Earth</td>\n",
       "      <td>5.980000e+24</td>\n",
       "      <td>6.383333e+06</td>\n",
       "      <td>9.813333</td>\n",
       "      <td>6.686678e-11</td>\n",
       "    </tr>\n",
       "    <tr>\n",
       "      <th>3</th>\n",
       "      <td>Mars</td>\n",
       "      <td>6.420000e+23</td>\n",
       "      <td>3.380000e+06</td>\n",
       "      <td>3.796667</td>\n",
       "      <td>6.756174e-11</td>\n",
       "    </tr>\n",
       "    <tr>\n",
       "      <th>4</th>\n",
       "      <td>Jupiter</td>\n",
       "      <td>1.900000e+27</td>\n",
       "      <td>7.136667e+07</td>\n",
       "      <td>24.900000</td>\n",
       "      <td>6.674774e-11</td>\n",
       "    </tr>\n",
       "    <tr>\n",
       "      <th>5</th>\n",
       "      <td>Saturn</td>\n",
       "      <td>5.670000e+26</td>\n",
       "      <td>6.040000e+07</td>\n",
       "      <td>10.396667</td>\n",
       "      <td>6.689366e-11</td>\n",
       "    </tr>\n",
       "  </tbody>\n",
       "</table>\n",
       "</div>"
      ],
      "text/plain": [
       "    Planet  Mass, M (kg)  Mean radius, r (m)  \\\n",
       "0  Mercury  3.300000e+23        2.423333e+06   \n",
       "1    Venus  4.870000e+24        6.086667e+06   \n",
       "2    Earth  5.980000e+24        6.383333e+06   \n",
       "3     Mars  6.420000e+23        3.380000e+06   \n",
       "4  Jupiter  1.900000e+27        7.136667e+07   \n",
       "5   Saturn  5.670000e+26        6.040000e+07   \n",
       "\n",
       "   Mean surface field strength, g (N kg^-1)  G (N m^2 kg^-2)  \n",
       "0                                  3.760000     6.691142e-11  \n",
       "1                                  8.773333     6.674131e-11  \n",
       "2                                  9.813333     6.686678e-11  \n",
       "3                                  3.796667     6.756174e-11  \n",
       "4                                 24.900000     6.674774e-11  \n",
       "5                                 10.396667     6.689366e-11  "
      ]
     },
     "execution_count": 91,
     "metadata": {},
     "output_type": "execute_result"
    }
   ],
   "source": [
    "mean_data"
   ]
  },
  {
   "cell_type": "code",
   "execution_count": 92,
   "id": "classical-argument",
   "metadata": {},
   "outputs": [],
   "source": [
    "mean_G = mean_data[\"G (N m^2 kg^-2)\"].mean()"
   ]
  },
  {
   "cell_type": "code",
   "execution_count": 93,
   "id": "extreme-poker",
   "metadata": {},
   "outputs": [
    {
     "data": {
      "text/plain": [
       "6.69537738629892e-11"
      ]
     },
     "execution_count": 93,
     "metadata": {},
     "output_type": "execute_result"
    }
   ],
   "source": [
    "mean_G"
   ]
  },
  {
   "cell_type": "code",
   "execution_count": 94,
   "id": "golden-complex",
   "metadata": {},
   "outputs": [],
   "source": [
    "G = 6.67 * 10 ** -11"
   ]
  },
  {
   "cell_type": "code",
   "execution_count": 97,
   "id": "medium-beijing",
   "metadata": {},
   "outputs": [
    {
     "data": {
      "text/plain": [
       "0.38047055920419187"
      ]
     },
     "execution_count": 97,
     "metadata": {},
     "output_type": "execute_result"
    }
   ],
   "source": [
    "percent_diff = (mean_G - G) / G * 100\n",
    "percent_diff"
   ]
  },
  {
   "cell_type": "markdown",
   "id": "breeding-variable",
   "metadata": {},
   "source": [
    "## Percentage difference of G = 0.38%"
   ]
  },
  {
   "cell_type": "code",
   "execution_count": 127,
   "id": "meaning-membership",
   "metadata": {},
   "outputs": [
    {
     "data": {
      "image/png": "[encoded data removed]",
      "text/plain": [
       "<Figure size 432x288 with 1 Axes>"
      ]
     },
     "metadata": {
      "needs_background": "light"
     },
     "output_type": "display_data"
    }
   ],
   "source": [
    "fig, ax = plt.subplots()\n",
    "\n",
    "x_vals = mean_data[\"Mass, M (kg)\"] / mean_data[\"Mean radius, r (m)\"] ** 2  # M/R^2\n",
    "y_vals = mean_data[\"Mean surface field strength, g (N kg^-1)\"]  # g\n",
    "\n",
    "ax.scatter(x=x_vals,\n",
    "           y=y_vals)\n",
    "\n",
    "grad, y_intercept = np.polyfit(x_vals, y_vals, 1)\n",
    "\n",
    "ax.plot(x_vals, grad * x_vals + y_intercept)\n",
    "\n",
    "ax.set(xlabel=\"M/r^2\",\n",
    "       ylabel=\"Surface field strength, g\",\n",
    "       title=\"g against M/r^2\");"
   ]
  },
  {
   "cell_type": "code",
   "execution_count": 112,
   "id": "worth-virtue",
   "metadata": {},
   "outputs": [
    {
     "data": {
      "text/plain": [
       "6.666836948014889e-11"
      ]
     },
     "execution_count": 112,
     "metadata": {},
     "output_type": "execute_result"
    }
   ],
   "source": [
    "grad"
   ]
  },
  {
   "cell_type": "code",
   "execution_count": 115,
   "id": "respected-sydney",
   "metadata": {},
   "outputs": [
    {
     "data": {
      "text/plain": [
       "2.8540438284030913e-13"
      ]
     },
     "execution_count": 115,
     "metadata": {},
     "output_type": "execute_result"
    }
   ],
   "source": [
    "# Difference between gradient and mean value of G\n",
    "grad_mean_G_diff = mean_G - grad\n",
    "grad_mean_G_diff"
   ]
  },
  {
   "cell_type": "code",
   "execution_count": 116,
   "id": "optical-convergence",
   "metadata": {},
   "outputs": [
    {
     "data": {
      "text/plain": [
       "0.42627079307634874"
      ]
     },
     "execution_count": 116,
     "metadata": {},
     "output_type": "execute_result"
    }
   ],
   "source": [
    "# Percentage difference between gradient and mean value of G\n",
    "grad_mean_G_diff / mean_G * 100"
   ]
  },
  {
   "cell_type": "code",
   "execution_count": 117,
   "id": "based-temperature",
   "metadata": {},
   "outputs": [
    {
     "data": {
      "text/plain": [
       "3.163051985111314e-14"
      ]
     },
     "execution_count": 117,
     "metadata": {},
     "output_type": "execute_result"
    }
   ],
   "source": [
    "# Difference between gradient and accepted value of G\n",
    "grad_G_diff = G - grad\n",
    "grad_G_diff"
   ]
  },
  {
   "cell_type": "code",
   "execution_count": 118,
   "id": "concerned-exchange",
   "metadata": {},
   "outputs": [
    {
     "data": {
      "text/plain": [
       "0.04742206874229856"
      ]
     },
     "execution_count": 118,
     "metadata": {},
     "output_type": "execute_result"
    }
   ],
   "source": [
    "# Percentage difference between gradient and accepted value of G\n",
    "grad_G_diff / G * 100"
   ]
  },
  {
   "cell_type": "code",
   "execution_count": 123,
   "id": "encouraging-dinner",
   "metadata": {},
   "outputs": [
    {
     "name": "stdout",
     "output_type": "stream",
     "text": [
      "Mean G = 6.69537738629892e-11, gradient = 6.666836948014889e-11, accepted G = 6.67e-11\n"
     ]
    }
   ],
   "source": [
    "print(f\"Mean G = {mean_G}, gradient = {grad}, accepted G = {G}\")"
   ]
  }
 ],
 "metadata": {
  "kernelspec": {
   "display_name": "Python 3",
   "language": "python",
   "name": "python3"
  },
  "language_info": {
   "codemirror_mode": {
    "name": "ipython",
    "version": 3
   },
   "file_extension": ".py",
   "mimetype": "text/x-python",
   "name": "python",
   "nbconvert_exporter": "python",
   "pygments_lexer": "ipython3",
   "version": "3.8.5"
  }
 },
 "nbformat": 4,
 "nbformat_minor": 5
}
